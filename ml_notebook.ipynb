{
  "nbformat": 4,
  "nbformat_minor": 0,
  "metadata": {
    "colab": {
      "provenance": [],
      "gpuType": "T4",
      "collapsed_sections": [
        "ujxr96RrBeYQ",
        "u3YEcEgDBksG",
        "KXAUI_dpBs_l",
        "sg3KD3Z7CB58",
        "e4ZzL0BgCPZS"
      ]
    },
    "kernelspec": {
      "name": "python3",
      "display_name": "Python 3"
    },
    "language_info": {
      "name": "python"
    },
    "accelerator": "GPU"
  },
  "cells": [
    {
      "cell_type": "markdown",
      "source": [
        "# **1. Initiall Instructions**"
      ],
      "metadata": {
        "id": "ujxr96RrBeYQ"
      }
    },
    {
      "cell_type": "code",
      "execution_count": null,
      "metadata": {
        "collapsed": true,
        "id": "iQ2wV08tR65s"
      },
      "outputs": [],
      "source": [
        "!pip install -q rdkit\n",
        "!pip install -q xgboost\n",
        "!pip install -q optuna"
      ]
    },
    {
      "cell_type": "code",
      "source": [
        "from google.colab import drive\n",
        "drive.mount('/content/drive')"
      ],
      "metadata": {
        "id": "aU_xD3F6SBFC"
      },
      "execution_count": null,
      "outputs": []
    },
    {
      "cell_type": "code",
      "source": [
        "import pandas as pd\n",
        "import numpy as np\n",
        "import matplotlib.pyplot as plt\n",
        "import os\n",
        "from xgboost import XGBClassifier\n",
        "import optuna\n",
        "import seaborn as sns\n",
        "from joblib import dump\n",
        "\n",
        "from rdkit import Chem\n",
        "from rdkit.Chem.SaltRemover import SaltRemover\n",
        "from rdkit.Chem.AllChem import GetMorganGenerator\n",
        "\n",
        "from sklearn.ensemble import RandomForestClassifier\n",
        "from sklearn.svm import SVC\n",
        "from sklearn.linear_model import LogisticRegression\n",
        "from sklearn.metrics import accuracy_score, confusion_matrix, matthews_corrcoef, make_scorer\n",
        "from sklearn.model_selection import StratifiedKFold, cross_validate, train_test_split\n",
        "from sklearn.neural_network import MLPClassifier"
      ],
      "metadata": {
        "id": "ERqMEXmCSEAw"
      },
      "execution_count": null,
      "outputs": []
    },
    {
      "cell_type": "markdown",
      "source": [
        "# **2) Data Preparation**"
      ],
      "metadata": {
        "id": "u3YEcEgDBksG"
      }
    },
    {
      "cell_type": "code",
      "source": [
        "data_ki = pd.read_csv(r'/content/drive/MyDrive/5ht7_Ki(1).csv', sep=';', usecols=[0,7,8,9,10,11,45])\n",
        "df_ki = pd.DataFrame(data_ki)\n",
        "df_ki = df_ki[df_ki['Action Type'].isin(['ANTAGONIST', 'INHIBITOR'])]\n",
        "print(df_ki.shape)\n",
        "\n",
        "data_ic50 = pd.read_csv(r'/content/drive/MyDrive/5ht7_IC50.csv', sep=';', usecols=[0,7,8,9,10,11,45])\n",
        "df_ic50 = pd.DataFrame(data_ic50)\n",
        "df_ic50 = df_ic50[df_ic50['Action Type'].isin(['ANTAGONIST', 'INHIBITOR'])]\n",
        "df_ic50['Standard Value'] = df_ic50['Standard Value'] /2   #According to Kaliokoski et al. in \"Comparability of Mixed IC50 Data – A Statistical Analysis\", Ki value is approximately equal to IC50/2.\n",
        "df_ic50['Standard Type'] = 'Ki'\n",
        "print(df_ic50.shape)\n",
        "\n",
        "df_conc = pd.concat([df_ki, df_ic50])\n",
        "print(df_conc.shape)"
      ],
      "metadata": {
        "id": "IWm_qdCPSVlI"
      },
      "execution_count": null,
      "outputs": []
    },
    {
      "cell_type": "code",
      "source": [
        "ser = df_conc.isna().sum()\n",
        "out_ser = ser.sum()\n",
        "\n",
        "print(f'> DataFrame shape: {df_conc.shape}')\n",
        "print(f'> DataFrame columns: {df_conc.columns}')\n",
        "if out_ser == 0:\n",
        "  print('> DataFrame has no missing values')\n",
        "else:\n",
        "  print(f'> DataFrame has {out_ser} missing values: \\n')\n",
        "  print(ser)"
      ],
      "metadata": {
        "id": "F8D1oithYv71"
      },
      "execution_count": null,
      "outputs": []
    },
    {
      "cell_type": "code",
      "source": [
        "df_conc = df_conc.drop_duplicates(subset=['Molecule ChEMBL ID'], keep=False)\n",
        "df_conc['Bin Activity'] = np.where(df_conc['Standard Value'] <= 50, 1, 0)\n",
        "print(f'Shape after drop_duplicates: {df_conc.shape}')"
      ],
      "metadata": {
        "id": "auz6v7olbeeQ"
      },
      "execution_count": null,
      "outputs": []
    },
    {
      "cell_type": "code",
      "source": [
        "classes = df_conc['Bin Activity'].value_counts()\n",
        "\n",
        "fig = plt.figure(figsize=(10,6))\n",
        "plt.bar(classes.index, classes.values, color=['lightcoral', 'lightgreen'])\n",
        "plt.xticks(classes.index)\n",
        "plt.xlabel('Class')\n",
        "plt.ylabel('Count of molecules')\n",
        "plt.title('Classes distribution')\n",
        "plt.text(classes.index[0], classes.values[0] / 2,\n",
        "         f'{classes[0]} molecules', ha='center', fontsize=12, color='black')\n",
        "plt.text(classes.index[1], classes.values[1] / 2,\n",
        "         f'{classes[1]} molecules', ha='center', fontsize=12, color='black')\n",
        "plt.grid(axis='y')\n",
        "plt.gca().set_facecolor('#f0f0f0')\n",
        "plt.tight_layout()"
      ],
      "metadata": {
        "id": "-d7q6bl10CPb"
      },
      "execution_count": null,
      "outputs": []
    },
    {
      "cell_type": "code",
      "source": [
        "remover = SaltRemover()\n",
        "fps_list = [1024, 2048, 4096, 8192]\n",
        "rds_list = list(range(1, 6))\n",
        "list_of_indexes = []\n",
        "\n",
        "scoring_metrics = {\n",
        "    'accuracy': 'accuracy',\n",
        "    'matthews_corrcoef': make_scorer(matthews_corrcoef),\n",
        "}\n",
        "\n",
        "\n",
        "dict_for_scores = {\n",
        "    'acc': [],\n",
        "    'mcc': [],\n",
        "}\n",
        "\n",
        "\n",
        "skf = StratifiedKFold(n_splits=5, shuffle=True, random_state=42)\n",
        "\n",
        "\n",
        "list_of_models = [RandomForestClassifier(random_state=42),\n",
        "                  SVC(random_state=42),\n",
        "                  LogisticRegression(random_state=42),\n",
        "                  XGBClassifier(random_state=42),\n",
        "                  MLPClassifier(random_state=42)]"
      ],
      "metadata": {
        "id": "G1joaExgGUyT"
      },
      "execution_count": null,
      "outputs": []
    },
    {
      "cell_type": "markdown",
      "source": [
        "# **3. Model and Fingerprints Pre-Screening**"
      ],
      "metadata": {
        "id": "KXAUI_dpBs_l"
      }
    },
    {
      "cell_type": "code",
      "source": [
        "for fps in fps_list:\n",
        "  for rds in rds_list:\n",
        "    fps_gen = GetMorganGenerator(fpSize=fps, radius=rds)\n",
        "\n",
        "    df_conc['fps'] = df_conc['Smiles'].apply(lambda x:\n",
        "      fps_gen.GetFingerprint(mol) if (mol := Chem.MolFromSmiles(x)) and (mol := remover.StripMol(mol)) else None\n",
        "      )\n",
        "\n",
        "\n",
        "    X = np.array(df_conc['fps'].to_list())\n",
        "    y = np.array(df_conc['Bin Activity'])\n",
        "\n",
        "    for model in list_of_models:\n",
        "      scores = cross_validate(model, X, y, cv=skf, scoring=scoring_metrics)\n",
        "\n",
        "      dict_for_scores['acc'].append(scores['test_accuracy'].mean())\n",
        "      dict_for_scores['mcc'].append(scores['test_matthews_corrcoef'].mean())\n",
        "      list_of_indexes.append(f'{model.__class__.__name__}_fps={fps}, rds={rds}')\n",
        "\n",
        "      print(f'{model.__class__.__name__} calculated (fps={fps}, rds={rds}). Running next model')"
      ],
      "metadata": {
        "collapsed": true,
        "id": "V9mVQTpZl8uF"
      },
      "execution_count": null,
      "outputs": []
    },
    {
      "cell_type": "code",
      "source": [
        "df_out = pd.DataFrame(data=dict_for_scores, index=list_of_indexes)\n",
        "row_with_max_acc = df_out.loc[df_out['acc'].idxmax()]\n",
        "row_with_max_mcc = df_out.loc[df_out['mcc'].idxmax()]\n",
        "\n",
        "print(row_with_max_acc)\n",
        "print()\n",
        "print(row_with_max_mcc)"
      ],
      "metadata": {
        "id": "p2f9oLNqwDzl"
      },
      "execution_count": null,
      "outputs": []
    },
    {
      "cell_type": "markdown",
      "source": [
        "# **4.Optuna Tuning**"
      ],
      "metadata": {
        "id": "sg3KD3Z7CB58"
      }
    },
    {
      "cell_type": "code",
      "source": [
        "fps_gen = GetMorganGenerator(fpSize=4096, radius=1)  #adjust fpSize and radius based on the score from above fps/rds screening\n",
        "\n",
        "df_conc['fps'] = df_conc['Smiles'].apply(lambda x:\n",
        "      fps_gen.GetFingerprint(mol) if (mol := Chem.MolFromSmiles(x)) and (mol := remover.StripMol(mol)) else None\n",
        "      )\n",
        "\n",
        "X = np.array(df_conc['fps'].to_list())\n",
        "y = np.array(df_conc['Bin Activity'])\n",
        "\n",
        "X_train, X_test, y_train, y_test = train_test_split(X, y, test_size=0.2, random_state=42, stratify=y)\n",
        "xgb_model = XGBClassifier(random_state=42)\n",
        "xgb_model.fit(X, y)\n",
        "\n",
        "y_pred = xgb_model.predict(X_test)\n",
        "test_acc = accuracy_score(y_test, y_pred)\n",
        "test_mcc = matthews_corrcoef(y_test, y_pred)\n",
        "cm = confusion_matrix(y_test, y_pred)\n",
        "\n",
        "print(f'Test accuracy: {test_acc}')\n",
        "print(f'Test MCC: {test_mcc:.2f}')\n",
        "\n",
        "plt.figure(figsize=(8,6))\n",
        "sns.heatmap(cm, annot=True, fmt='d', cmap='Blues', cbar=False, xticklabels=['Class 0', 'Class 1'], yticklabels=['Class 0', 'Class 1'])\n",
        "plt.xlabel('Predicted')\n",
        "plt.ylabel('True')\n",
        "plt.title('Confusion Matrix as Heatmap')\n",
        "plt.show()"
      ],
      "metadata": {
        "id": "17JRGG5LITh6"
      },
      "execution_count": null,
      "outputs": []
    },
    {
      "cell_type": "code",
      "source": [
        "def objective(trial):\n",
        "\n",
        "  n_estimators = trial.suggest_int('n_estimators', 50, 500)\n",
        "  max_depth = trial.suggest_int('max_depth', 3, 10)\n",
        "  learning_rate = trial.suggest_float('learning_rate', 0.01, 0.3)\n",
        "  subsample = trial.suggest_float('subsample', 0.5, 1.0)\n",
        "  colsample_bytree = trial.suggest_float('colsample_bytree', 0.5, 1.0)\n",
        "  gamma = trial.suggest_float('gamma', 0, 10)\n",
        "  reg_alpha = trial.suggest_float('reg_alpha', 0, 10)\n",
        "  reg_lambda = trial.suggest_float('reg_lambda', 0, 10)\n",
        "\n",
        "  model = XGBClassifier(n_estimators=n_estimators, max_depth=max_depth, learning_rate=learning_rate, subsample=subsample,\n",
        "                        colsample_bytree=colsample_bytree, gamma=gamma, reg_alpha=reg_alpha, reg_lambda=reg_lambda, random_state=42)\n",
        "\n",
        "  scores = cross_validate(model, X, y, cv=skf, scoring=scoring_metrics)\n",
        "\n",
        "  return scores['test_accuracy'].mean()"
      ],
      "metadata": {
        "id": "46k9kOjf35rt"
      },
      "execution_count": null,
      "outputs": []
    },
    {
      "cell_type": "code",
      "source": [
        "sampler = optuna.samplers.TPESampler(seed=13)\n",
        "\n",
        "study = optuna.create_study(direction='maximize', sampler=sampler)\n",
        "study.optimize(objective, n_trials=200)"
      ],
      "metadata": {
        "id": "T8aD6sUK6eJq"
      },
      "execution_count": null,
      "outputs": []
    },
    {
      "cell_type": "code",
      "source": [
        "best_params = study.best_params\n",
        "\n",
        "n_estimators = best_params['n_estimators']\n",
        "max_depth = best_params['max_depth']\n",
        "learning_rate = best_params['learning_rate']\n",
        "subsample = best_params['subsample']\n",
        "colsample_bytree = best_params['colsample_bytree']\n",
        "gamma = best_params['gamma']\n",
        "reg_alpha = best_params['reg_alpha']\n",
        "reg_lambda = best_params['reg_lambda']\n",
        "\n",
        "\n",
        "X_train, X_test, y_train, y_test = train_test_split(X, y, test_size=0.2, random_state=42, stratify=y)\n",
        "xgb_model_after_optuna= XGBClassifier(n_estimators=n_estimators,\n",
        "                                      max_depth=max_depth,\n",
        "                                      learning_rate=learning_rate,\n",
        "                                      subsample=subsample,\n",
        "                                      colsample_bytree=colsample_bytree,\n",
        "                                      gamma=gamma,\n",
        "                                      reg_alpha=reg_alpha,\n",
        "                                      reg_lambda=reg_lambda,\n",
        "                                      random_state=42)\n",
        "xgb_model_after_optuna.fit(X_train, y_train)\n",
        "\n",
        "y_pred = xgb_model_after_optuna.predict(X_test)\n",
        "test_acc = accuracy_score(y_test, y_pred)\n",
        "test_mcc = matthews_corrcoef(y_test, y_pred)\n",
        "cm = confusion_matrix(y_test, y_pred)\n",
        "\n",
        "print(f'Test accuracy: {test_acc}')\n",
        "print(f'Test MCC: {test_mcc:.2f}')\n",
        "\n",
        "plt.figure(figsize=(8,6))\n",
        "sns.heatmap(cm, annot=True, fmt='d', cmap='Blues', cbar=False,\n",
        "            xticklabels=['Class 0', 'Class 1'], yticklabels=['Class 0', 'Class 1'])\n",
        "plt.xlabel('Predicted')\n",
        "plt.ylabel('True')\n",
        "plt.title('Confusion Matrix as Heatmap')\n",
        "plt.show()"
      ],
      "metadata": {
        "id": "NQ1qQOvU7LY8"
      },
      "execution_count": null,
      "outputs": []
    },
    {
      "cell_type": "markdown",
      "source": [
        "# **5.Best Model Saving**"
      ],
      "metadata": {
        "id": "e4ZzL0BgCPZS"
      }
    },
    {
      "cell_type": "code",
      "source": [
        "#Select best model. In this case, base model was better than model after Optuna tuning\n",
        "os.chdir('desired_location')\n",
        "\n",
        "final_model = xgb_model\n",
        "path = os.path.join(os.getcwd(), 'best_xgb_model.joblib')\n",
        "dump(final_model, path)"
      ],
      "metadata": {
        "id": "UgygadXg9jja"
      },
      "execution_count": null,
      "outputs": []
    }
  ]
}